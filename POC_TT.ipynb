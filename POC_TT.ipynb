{
  "nbformat": 4,
  "nbformat_minor": 0,
  "metadata": {
    "colab": {
      "provenance": [],
      "authorship_tag": "ABX9TyNb+weDgpAgYWyotGgbZNA1",
      "include_colab_link": true
    },
    "kernelspec": {
      "name": "python3",
      "display_name": "Python 3"
    },
    "language_info": {
      "name": "python"
    }
  },
  "cells": [
    {
      "cell_type": "markdown",
      "metadata": {
        "id": "view-in-github",
        "colab_type": "text"
      },
      "source": [
        "<a href=\"https://colab.research.google.com/github/ramm1024/trabajotitulo/blob/main/POC_TT.ipynb\" target=\"_parent\"><img src=\"https://colab.research.google.com/assets/colab-badge.svg\" alt=\"Open In Colab\"/></a>"
      ]
    },
    {
      "cell_type": "code",
      "source": [
        "!pip install -q openai\n",
        "!pip install -q pattern"
      ],
      "metadata": {
        "id": "92UBksmXg0gA"
      },
      "execution_count": null,
      "outputs": []
    },
    {
      "cell_type": "code",
      "execution_count": null,
      "metadata": {
        "colab": {
          "base_uri": "https://localhost:8080/"
        },
        "id": "mbEnz06JgrMs",
        "outputId": "c9e92dee-6ecb-40eb-92d7-c48f21eb4c97"
      },
      "outputs": [
        {
          "output_type": "stream",
          "name": "stdout",
          "text": [
            "Drive already mounted at /content/drive; to attempt to forcibly remount, call drive.mount(\"/content/drive\", force_remount=True).\n"
          ]
        }
      ],
      "source": [
        "from openai import OpenAI\n",
        "import os\n",
        "from google.colab import userdata\n",
        "from google.colab import drive\n",
        "import pandas as pd\n",
        "import time\n",
        "import csv\n",
        "from pattern.text.en import singularize\n",
        "drive.mount('/content/drive')\n",
        "os.environ[\"OPENAI_API_KEY\"] = userdata.get('OPENAI_API_KE')\n",
        "client = OpenAI()\n",
        "dataset_filename = \"dummy12.csv\""
      ]
    },
    {
      "cell_type": "code",
      "source": [
        "#df = pd.read_csv(\"/content/drive/MyDrive/11vo/poctestdata/dummy68.csv\",sep=\";\")\n",
        "df = pd.read_csv(\"/content/drive/MyDrive/11vo/poctestdata/\"+dataset_filename,sep=\",\")"
      ],
      "metadata": {
        "id": "MPFynJPnxxsS"
      },
      "execution_count": null,
      "outputs": []
    },
    {
      "cell_type": "code",
      "source": [
        "#input data: str con datos unidos por ;\n",
        "#output tipo_datos: lista de diccionarios con el tipo de dato encontrado y la cantidad de instancias\n",
        "def send_prompt(data:str, model_choice:int)->str:\n",
        "  completion = client.chat.completions.create(\n",
        "    model=set_model(model_choice),\n",
        "    messages=get_messages(data)\n",
        "  )\n",
        "  return completion.choices[0].message.content\n",
        "\n",
        "def set_context(data:list[str])-> list[dict]:\n",
        "  context = list\n",
        "  return context\n",
        "\n",
        "def set_model(model_choice:str)-> str:\n",
        "  #https://openai.com/api/pricing/\n",
        "  if model_choice == \"3.5t\":\n",
        "    return \"gpt-3.5-turbo\"\n",
        "  elif model_choice == \"4\":\n",
        "    return \"gpt-4\"\n",
        "  elif model_choice == \"4t\":\n",
        "    return  \"gpt-4-turbo\"\n",
        "  elif model_choice == \"3.5t0125\":\n",
        "    return \"gpt-3.5-turbo-instruct\"\n",
        "  elif model_choice == \"4o\":\n",
        "    return \"gpt-4o\"\n",
        "  else:\n",
        "    return \"gpt-3.5-turbo-0125\"\n",
        "\n",
        "def get_messages(data:str)->str:\n",
        "  messages=[\n",
        "                    {\"role\": \"system\", \"content\": \"You are a data parser\"},\n",
        "                    {\"role\": \"system\", \"content\": \"Your datasets come in form of a string separated by semicolons\"},\n",
        "                    {\"role\": \"system\", \"content\": \"Yopu will use the dataset to infer the type of personal information that it contains\"},\n",
        "                    #{\"role\": \"system\", \"content\": \"The types of data that it can contain are Personal Information, Sensitive Information, PHI, HIPAA protected information and non personal information\"},\n",
        "                    {\"role\": \"system\", \"content\": \"Return only the name of the type of personal information\"},\n",
        "                    {\"role\": \"user\", \"content\": f\"{data}\"},\n",
        "                ]\n",
        "  return messages\n",
        "\n",
        "def get_data(df):\n",
        "  return ';'.join(map(str,df.tolist()))\n",
        "\n",
        "def save_output(data):\n",
        "  with open('/content/drive/MyDrive/11vo/poctestdata/out_'+dataset_filename, 'w') as f:\n",
        "    writer = csv.writer(f, delimiter=';')\n",
        "    writer.writerow(['data_type', 'column_name'])\n",
        "    for item in data:\n",
        "      writer.writerow([item,data[item]])\n",
        "\n",
        "def get_data_types(df:pd.DataFrame)->dict[list]:\n",
        "  data_types = dict()\n",
        "  for column_name in df.columns:\n",
        "    data_type = send_prompt(get_data(df[column_name]),'')\n",
        "    print(singularize(data_type.lower()))\n",
        "    sanitized_data_type = singularize(data_type.lower())\n",
        "    if sanitized_data_type not in data_types:\n",
        "      data_types[sanitized_data_type] = [column_name]\n",
        "    else:\n",
        "      data_types[sanitized_data_type].append(column_name)\n",
        "    return data_types"
      ],
      "metadata": {
        "id": "fezs-4ephI7c"
      },
      "execution_count": null,
      "outputs": []
    },
    {
      "cell_type": "code",
      "source": [
        "get_data_types(df)\n",
        "\n",
        "save_output(data_types)\n",
        "print(data_types)"
      ],
      "metadata": {
        "colab": {
          "base_uri": "https://localhost:8080/"
        },
        "id": "5bcIdIiTCOyf",
        "outputId": "8e02e946-3e24-4ab8-ba36-90460cdbf4d6"
      },
      "execution_count": null,
      "outputs": [
        {
          "output_type": "stream",
          "name": "stdout",
          "text": [
            "sequence of number\n",
            "{'sequence of number': ['id'], 'email': ['email_address', 'personal_email'], 'phone number': ['home_phone', 'fax_number', 'business_phone'], 'city name': ['city'], 'last name': ['last_name'], 'first name': ['first_name'], 'job title': ['job_title'], 'country': ['country_region'], 'language skill': ['notes'], 'car brand': ['company'], 'address': ['address'], 'state or region': ['state_province'], 'postal code': ['zip_postal_code']}\n"
          ]
        }
      ]
    }
  ]
}